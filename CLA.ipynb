{
 "cells": [
  {
   "cell_type": "code",
   "execution_count": null,
   "metadata": {},
   "outputs": [],
   "source": []
  },
  {
   "cell_type": "markdown",
   "metadata": {},
   "source": [
    "#这是一个块级公式：\n",
    "$$\n",
    "\\int_0^\\infty e^{-x} \\, dx = 1\n",
    "$$\n",
    "\n",
    "\n",
    "这是一个公式：\n",
    "$$\n",
    "f(x) = ax^2 + bx + c\n",
    "$$\n"
   ]
  },
  {
   "cell_type": "code",
   "execution_count": null,
   "metadata": {},
   "outputs": [],
   "source": []
  }
 ],
 "metadata": {
  "language_info": {
   "name": "python"
  }
 },
 "nbformat": 4,
 "nbformat_minor": 2
}
